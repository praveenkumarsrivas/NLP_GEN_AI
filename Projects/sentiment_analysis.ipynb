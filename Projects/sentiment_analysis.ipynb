{
 "cells": [
  {
   "cell_type": "markdown",
   "metadata": {},
   "source": [
    "## What we are going to do?\n",
    "\n",
    "\n",
    "1. Download the IMDB review dataset\n",
    "2. Perform necessary preprocessing\n",
    "3. Convert data into vector (OHE,word2vec,BOW)\n",
    "4. create a model(RNN, LSTM,Bi-directional LSTM, Stacked LSTM, GRU) using keras, tensorflow or pytorch\n",
    "5. Compare the performance, which model is Best?"
   ]
  },
  {
   "cell_type": "code",
   "execution_count": 3,
   "metadata": {},
   "outputs": [],
   "source": [
    "import tarfile\n",
    "import os"
   ]
  },
  {
   "cell_type": "code",
   "execution_count": 4,
   "metadata": {},
   "outputs": [],
   "source": [
    "path_tofile = r\"/Users/praveensrivas/Documents/NLP_GEN_AI/Projects/Data/aclImdb_v1.tar.gz\"\n",
    "extract_to  = os.path.dirname(path_tofile)\n",
    "\n",
    "\n",
    "if tarfile.is_tarfile(path_tofile):\n",
    "  with tarfile.open(path_tofile) as f:\n",
    "    f.extractall(path=extract_to)    #extract"
   ]
  },
  {
   "cell_type": "code",
   "execution_count": 5,
   "metadata": {},
   "outputs": [],
   "source": [
    "import pandas as pd\n",
    "import numpy as np\n",
    "\n",
    "pd.set_option('display.max_columns', None)  # or 1000\n",
    "pd.set_option('display.max_rows', None)  # or 1000\n",
    "pd.set_option('display.max_colwidth', None)  # or 199"
   ]
  },
  {
   "cell_type": "markdown",
   "metadata": {},
   "source": [
    "#### 1. Reading data, and creating train test dataset"
   ]
  },
  {
   "cell_type": "code",
   "execution_count": 6,
   "metadata": {},
   "outputs": [],
   "source": [
    "def load_data_from_folder(folder_path, label):\n",
    "  data = []\n",
    "  for filename in os.listdir(folder_path):\n",
    "    if filename.endswith('.txt'):\n",
    "      file_path = os.path.join(folder_path, filename)\n",
    "      with open(file_path,'r',encoding='utf-8') as file:\n",
    "        content = file.read()\n",
    "        data.append((content,label))\n",
    "\n",
    "  return data\n",
    "\n",
    "def create_dataset(base_dir):\n",
    "  train_data = []\n",
    "  test_data = []\n",
    "\n",
    "  #Train paths\n",
    "  train_pos_path = os.path.join(base_dir,'train','pos')\n",
    "  train_neg_path = os.path.join(base_dir,'train','neg')\n",
    "\n",
    "\n",
    "  #Test path\n",
    "  test_pos_path = os.path.join(base_dir,'test','pos')\n",
    "  test_neg_path = os.path.join(base_dir,'test','neg')\n",
    "\n",
    "\n",
    "  # Load train data\n",
    "  train_data.extend(load_data_from_folder(train_pos_path,1))\n",
    "  train_data.extend(load_data_from_folder(train_neg_path,0))\n",
    "\n",
    "  # Load test data\n",
    "  test_data.extend(load_data_from_folder(test_pos_path,1))\n",
    "  test_data.extend(load_data_from_folder(test_neg_path,0))\n",
    "\n",
    "  # Convert to Dataframe\n",
    "  train_df = pd.DataFrame(train_data, columns=['review','lables'])\n",
    "  test_df = pd.DataFrame(test_data, columns=['review','label'])\n",
    "\n",
    "  return train_df, test_df"
   ]
  },
  {
   "cell_type": "code",
   "execution_count": null,
   "metadata": {},
   "outputs": [],
   "source": [
    "base_dir = '/Users/praveensrivas/Documents/Datasets/NLP_Datasets/Data/aclImdb'"
   ]
  },
  {
   "cell_type": "code",
   "execution_count": 8,
   "metadata": {},
   "outputs": [],
   "source": [
    "train_df, test_df = create_dataset(base_dir=base_dir)"
   ]
  },
  {
   "cell_type": "code",
   "execution_count": 9,
   "metadata": {},
   "outputs": [
    {
     "data": {
      "text/html": [
       "<div>\n",
       "<style scoped>\n",
       "    .dataframe tbody tr th:only-of-type {\n",
       "        vertical-align: middle;\n",
       "    }\n",
       "\n",
       "    .dataframe tbody tr th {\n",
       "        vertical-align: top;\n",
       "    }\n",
       "\n",
       "    .dataframe thead th {\n",
       "        text-align: right;\n",
       "    }\n",
       "</style>\n",
       "<table border=\"1\" class=\"dataframe\">\n",
       "  <thead>\n",
       "    <tr style=\"text-align: right;\">\n",
       "      <th></th>\n",
       "      <th>review</th>\n",
       "      <th>lables</th>\n",
       "    </tr>\n",
       "  </thead>\n",
       "  <tbody>\n",
       "    <tr>\n",
       "      <th>7965</th>\n",
       "      <td>From the first scene you are given clues as to what may be going on here. It becomes more and more obvious as the story rolls on. The acting is excellent throughout and these actors touch your soul. Even though I knew what was going to happen I was extremely puzzled by the motive. I'm still puzzled as to why Ben did what he did. We could see in his face \"second thoughts\", but the ultimate sacrifice seemed to go against his emotion and feelings. It was a very interesting and touching story but it left me confused. Maybe that was the point of the film. I did like the film and Wil Smith can wrack up another good film choice. This guy knows how to entertain an audience!</td>\n",
       "      <td>1</td>\n",
       "    </tr>\n",
       "    <tr>\n",
       "      <th>15778</th>\n",
       "      <td>I bought Bloodsuckers on ebay a while ago. I watched parts and deemed it just too dumb to review again. The excessive amount of watery 'blood' at the beginning is just plain obsolete - not to mention the \"whip-around\" wind sounds. My friends and I made a super low budget movie, and the effects still exceeded this crap fest.&lt;br /&gt;&lt;br /&gt;As for the amount of mistakes in this movie, there are way too many to count. I knew one of the actors - believe it or not, he was my THEATRE teacher. HA! &lt;br /&gt;&lt;br /&gt;Final verdict: Don't bother with this \"horror\" flick. &lt;br /&gt;&lt;br /&gt;3 Stars (out of a possible 73)</td>\n",
       "      <td>0</td>\n",
       "    </tr>\n",
       "  </tbody>\n",
       "</table>\n",
       "</div>"
      ],
      "text/plain": [
       "                                                                                                                                                                                                                                                                                                                                                                                                                                                                                                                                                                                                                                                                                                   review  \\\n",
       "7965   From the first scene you are given clues as to what may be going on here. It becomes more and more obvious as the story rolls on. The acting is excellent throughout and these actors touch your soul. Even though I knew what was going to happen I was extremely puzzled by the motive. I'm still puzzled as to why Ben did what he did. We could see in his face \"second thoughts\", but the ultimate sacrifice seemed to go against his emotion and feelings. It was a very interesting and touching story but it left me confused. Maybe that was the point of the film. I did like the film and Wil Smith can wrack up another good film choice. This guy knows how to entertain an audience!   \n",
       "15778                                                                            I bought Bloodsuckers on ebay a while ago. I watched parts and deemed it just too dumb to review again. The excessive amount of watery 'blood' at the beginning is just plain obsolete - not to mention the \"whip-around\" wind sounds. My friends and I made a super low budget movie, and the effects still exceeded this crap fest.<br /><br />As for the amount of mistakes in this movie, there are way too many to count. I knew one of the actors - believe it or not, he was my THEATRE teacher. HA! <br /><br />Final verdict: Don't bother with this \"horror\" flick. <br /><br />3 Stars (out of a possible 73)   \n",
       "\n",
       "       lables  \n",
       "7965        1  \n",
       "15778       0  "
      ]
     },
     "execution_count": 9,
     "metadata": {},
     "output_type": "execute_result"
    }
   ],
   "source": [
    "train_df.sample(2)"
   ]
  },
  {
   "cell_type": "markdown",
   "metadata": {},
   "source": [
    "## 2. Text preprocessing\n",
    "1. Lowercasing  \n",
    "2. Remove Punctuation  \n",
    "3. Tokenization  \n",
    "4. Remove Stopwords  \n",
    "5. Remove Numbers  \n",
    "6. Stemming  \n",
    "7. Lemmatization  \n",
    "8. Handling Special Characters  \n",
    "9. Handling Whitespace"
   ]
  },
  {
   "cell_type": "code",
   "execution_count": 10,
   "metadata": {},
   "outputs": [],
   "source": [
    "# Lower case\n",
    "train_df['review'] = train_df['review'].apply(lambda x: x.lower())"
   ]
  },
  {
   "cell_type": "code",
   "execution_count": 11,
   "metadata": {},
   "outputs": [],
   "source": [
    "\n",
    "# Remove punctualtion marks, HTML tags, URLs\n",
    "import re\n",
    "import string\n",
    "train_df['review'] = train_df['review'].apply(lambda x: re.sub(r'<[^>]*?>|\\[.*?\\]|https?:\\/\\/\\S+|www\\.\\S+|[^\\w\\s]', '', x))\n"
   ]
  },
  {
   "cell_type": "code",
   "execution_count": 12,
   "metadata": {},
   "outputs": [],
   "source": [
    "# Tokenization\n",
    "train_df['review_token'] = train_df['review'].apply(lambda x: x.split())"
   ]
  },
  {
   "cell_type": "code",
   "execution_count": 13,
   "metadata": {},
   "outputs": [],
   "source": [
    "# removing stopwords\n",
    "from nltk.corpus import stopwords\n",
    "stopwords_ = set(stopwords.words('english'))\n",
    "train_df['non_stopword_review'] = train_df['review_token'].apply(lambda x: [xi.strip() for xi in x if xi.strip() not in stopwords_])"
   ]
  },
  {
   "cell_type": "code",
   "execution_count": 14,
   "metadata": {},
   "outputs": [],
   "source": [
    "train_df.drop(columns=['review','review_token'], inplace=True)"
   ]
  },
  {
   "cell_type": "code",
   "execution_count": 15,
   "metadata": {},
   "outputs": [],
   "source": [
    "### Lemmatization\n",
    "from nltk.stem import WordNetLemmatizer\n",
    "def word_lemma(token_list):\n",
    "  wl = WordNetLemmatizer()\n",
    "  token_list = \" \".join([wl.lemmatize(w) for w in token_list])\n",
    "  return token_list"
   ]
  },
  {
   "cell_type": "code",
   "execution_count": 16,
   "metadata": {},
   "outputs": [],
   "source": [
    "train_df['clean_review'] = train_df['non_stopword_review'].apply(word_lemma)"
   ]
  },
  {
   "cell_type": "code",
   "execution_count": 17,
   "metadata": {},
   "outputs": [],
   "source": [
    "train_df.drop(columns=['non_stopword_review'], inplace=True)"
   ]
  },
  {
   "cell_type": "code",
   "execution_count": 18,
   "metadata": {},
   "outputs": [
    {
     "data": {
      "text/html": [
       "<div>\n",
       "<style scoped>\n",
       "    .dataframe tbody tr th:only-of-type {\n",
       "        vertical-align: middle;\n",
       "    }\n",
       "\n",
       "    .dataframe tbody tr th {\n",
       "        vertical-align: top;\n",
       "    }\n",
       "\n",
       "    .dataframe thead th {\n",
       "        text-align: right;\n",
       "    }\n",
       "</style>\n",
       "<table border=\"1\" class=\"dataframe\">\n",
       "  <thead>\n",
       "    <tr style=\"text-align: right;\">\n",
       "      <th></th>\n",
       "      <th>lables</th>\n",
       "      <th>clean_review</th>\n",
       "    </tr>\n",
       "  </thead>\n",
       "  <tbody>\n",
       "    <tr>\n",
       "      <th>17765</th>\n",
       "      <td>0</td>\n",
       "      <td>movie female rape victimcomic book writer new york decides get away awful big city glamor move dirty run small town find refuge singlewide trailer dirt lot middle 12th nowhere townspeople mentally ill yet inviting crazy men trailer annoying fact ability exactly right thing place dangerous circumstance dangerous circumstance db sweeneys performance high school best he one kindacute young actor sweet grin unfortunately career kind mother nature right tow previous commentator stating acting real well agree actually wasnt acting two main character really pathetic weak incapable making mature healthy decision brief movie suck like rent laugh real crime scene atrocious wood paneling trailer enough make commit murder lastly shes artistwriter couldnt afford doublewide trailer something sunyellow chevy chevette love god</td>\n",
       "    </tr>\n",
       "    <tr>\n",
       "      <th>15284</th>\n",
       "      <td>0</td>\n",
       "      <td>entirely impressed film originally named sin eater stayed way considering talked last half film im even sure first 20 minute film rest slow picking robocop peter weller one main actor sad pointall would say check thing dealing catholic religion dont expect exorcist stigma film surely flop day word get</td>\n",
       "    </tr>\n",
       "  </tbody>\n",
       "</table>\n",
       "</div>"
      ],
      "text/plain": [
       "       lables  \\\n",
       "17765       0   \n",
       "15284       0   \n",
       "\n",
       "                                                                                                                                                                                                                                                                                                                                                                                                                                                                                                                                                                                                                                                                                                                                                                                                                                                 clean_review  \n",
       "17765  movie female rape victimcomic book writer new york decides get away awful big city glamor move dirty run small town find refuge singlewide trailer dirt lot middle 12th nowhere townspeople mentally ill yet inviting crazy men trailer annoying fact ability exactly right thing place dangerous circumstance dangerous circumstance db sweeneys performance high school best he one kindacute young actor sweet grin unfortunately career kind mother nature right tow previous commentator stating acting real well agree actually wasnt acting two main character really pathetic weak incapable making mature healthy decision brief movie suck like rent laugh real crime scene atrocious wood paneling trailer enough make commit murder lastly shes artistwriter couldnt afford doublewide trailer something sunyellow chevy chevette love god  \n",
       "15284                                                                                                                                                                                                                                                                                                                                                                                                                                                                                                                                          entirely impressed film originally named sin eater stayed way considering talked last half film im even sure first 20 minute film rest slow picking robocop peter weller one main actor sad pointall would say check thing dealing catholic religion dont expect exorcist stigma film surely flop day word get  "
      ]
     },
     "execution_count": 18,
     "metadata": {},
     "output_type": "execute_result"
    }
   ],
   "source": [
    "train_df.sample(2)"
   ]
  },
  {
   "cell_type": "code",
   "execution_count": null,
   "metadata": {},
   "outputs": [],
   "source": []
  }
 ],
 "metadata": {
  "kernelspec": {
   "display_name": "Python 3",
   "language": "python",
   "name": "python3"
  },
  "language_info": {
   "codemirror_mode": {
    "name": "ipython",
    "version": 3
   },
   "file_extension": ".py",
   "mimetype": "text/x-python",
   "name": "python",
   "nbconvert_exporter": "python",
   "pygments_lexer": "ipython3",
   "version": "3.10.14"
  }
 },
 "nbformat": 4,
 "nbformat_minor": 2
}
