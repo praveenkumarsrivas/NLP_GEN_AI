{
 "cells": [
  {
   "cell_type": "markdown",
   "metadata": {},
   "source": [
    "# Papers:\n",
    "  1. Sequence to Sequence Learning\n",
    "with Neural Networks https://arxiv.org/pdf/1409.3215v3\n",
    "  2. NEURAL MACHINE TRANSLATION\n",
    "BY JOINTLY LEARNING TO ALIGN AND TRANSLATE https://arxiv.org/pdf/1409.0473\n",
    "  3. Attention Is All You Need https://arxiv.org/pdf/1706.03762\n",
    "  4. Universal Language Model Fine-tuning for Text Classification https://arxiv.org/pdf/1801.06146\n"
   ]
  },
  {
   "cell_type": "markdown",
   "metadata": {},
   "source": [
    "# Blogs:\n",
    "- colah's blog https://colah.github.io/"
   ]
  },
  {
   "cell_type": "markdown",
   "metadata": {},
   "source": []
  }
 ],
 "metadata": {
  "language_info": {
   "name": "python"
  }
 },
 "nbformat": 4,
 "nbformat_minor": 2
}
